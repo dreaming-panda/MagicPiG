{
 "cells": [
  {
   "cell_type": "code",
   "execution_count": 1,
   "id": "ba1364fe-fee7-4289-80b3-001031c2b26c",
   "metadata": {},
   "outputs": [
    {
     "data": {
      "application/vnd.jupyter.widget-view+json": {
       "model_id": "278b572fb40e4c1b82a71bc07fc7e1c0",
       "version_major": 2,
       "version_minor": 0
      },
      "text/plain": [
       "Loading checkpoint shards:   0%|          | 0/4 [00:00<?, ?it/s]"
      ]
     },
     "metadata": {},
     "output_type": "display_data"
    },
    {
     "name": "stdout",
     "output_type": "stream",
     "text": [
      "LlamaForCausalLM(\n",
      "  (model): LlamaModel(\n",
      "    (embed_tokens): Embedding(128256, 4096)\n",
      "    (layers): ModuleList(\n",
      "      (0-31): 32 x LlamaDecoderLayer(\n",
      "        (self_attn): LlamaAttention(\n",
      "          (q_proj): Linear(in_features=4096, out_features=4096, bias=False)\n",
      "          (k_proj): Linear(in_features=4096, out_features=1024, bias=False)\n",
      "          (v_proj): Linear(in_features=4096, out_features=1024, bias=False)\n",
      "          (o_proj): Linear(in_features=4096, out_features=4096, bias=False)\n",
      "          (rotary_emb): LlamaRotaryEmbedding()\n",
      "        )\n",
      "        (mlp): LlamaMLP(\n",
      "          (gate_proj): Linear(in_features=4096, out_features=14336, bias=False)\n",
      "          (up_proj): Linear(in_features=4096, out_features=14336, bias=False)\n",
      "          (down_proj): Linear(in_features=14336, out_features=4096, bias=False)\n",
      "          (act_fn): SiLU()\n",
      "        )\n",
      "        (input_layernorm): LlamaRMSNorm()\n",
      "        (post_attention_layernorm): LlamaRMSNorm()\n",
      "      )\n",
      "    )\n",
      "    (norm): LlamaRMSNorm()\n",
      "  )\n",
      "  (lm_head): Linear(in_features=4096, out_features=128256, bias=False)\n",
      ")\n"
     ]
    }
   ],
   "source": [
    "from llama_pq import LlamaForCausalLM\n",
    "import torch\n",
    "\n",
    "pretrained = 'meta-llama/Meta-Llama-3-8B-Instruct'\n",
    "device = (\n",
    "    torch.device(\"cuda\")\n",
    "    if torch.cuda.is_available()\n",
    "    else torch.device(\"cpu\")\n",
    ")\n",
    "model = LlamaForCausalLM.from_pretrained(\n",
    "    pretrained,\n",
    "    torch_dtype=torch.bfloat16,\n",
    "    device_map=str(device),\n",
    "    _attn_implementation = \"eager\"\n",
    ")\n",
    "model.eval()\n",
    "print(model)"
   ]
  },
  {
   "cell_type": "code",
   "execution_count": 2,
   "id": "c16c04e1-dd96-4e81-912f-fd2d40902957",
   "metadata": {},
   "outputs": [],
   "source": [
    "collection = torch.load('activation.pt')\n",
    "\n",
    "def get_qkv(info, model, layer):\n",
    "    h = 32\n",
    "    group = 4\n",
    "    q_proj = model.model.layers[layer].self_attn.q_proj.weight.T\n",
    "    k_proj = model.model.layers[layer].self_attn.k_proj.weight.T\n",
    "    v_proj = model.model.layers[layer].self_attn.v_proj.weight.T\n",
    "    x = info[0].squeeze(0)\n",
    "    seqlen = info[1]\n",
    "    # print(q_proj.shape, k_proj.shape, v_proj.shape, x.shape, seqlen)\n",
    "    data = x[:seqlen, :]\n",
    "    query = x[seqlen:, :]\n",
    "    q = torch.matmul(query, q_proj).view(query.shape[0], h, -1)\n",
    "    k = torch.matmul(data, k_proj).view(data.shape[0], h//group, -1).repeat_interleave(dim=1, repeats=group)\n",
    "    v = torch.matmul(data, v_proj).view(data.shape[0], h//group, -1).repeat_interleave(dim=1, repeats=group)\n",
    "    # print(q.shape, k.shape, v.shape)\n",
    "    return q.transpose(1, 0), k.transpose(1, 0), v.transpose(1, 0)"
   ]
  },
  {
   "cell_type": "code",
   "execution_count": 23,
   "id": "73ba15b6-6944-47d5-b728-8506b218351f",
   "metadata": {},
   "outputs": [
    {
     "name": "stdout",
     "output_type": "stream",
     "text": [
      "tensor([[  0, 295, 848,  ..., 714, 711, 710],\n",
      "        [  0, 445, 241,  ..., 714, 762, 834],\n",
      "        [  0, 241, 854,  ..., 759, 762, 834],\n",
      "        ...,\n",
      "        [  0,  71, 346,  ..., 655, 691, 654],\n",
      "        [  0, 430, 230,  ..., 710, 654, 691],\n",
      "        [  0, 104, 231,  ..., 671, 677, 711]], device='cuda:0')\n",
      "efSearch 16 bounded queue True \t   0.001 ms per query, R@1 0.9706, missing rate 0.0000\n",
      "efSearch 16 bounded queue False \t   0.001 ms per query, R@1 0.9706, missing rate 0.0000\n",
      "efSearch 32 bounded queue True \t   0.001 ms per query, R@1 0.9706, missing rate 0.0000\n",
      "efSearch 32 bounded queue False \t   0.001 ms per query, R@1 0.9706, missing rate 0.0000\n",
      "efSearch 64 bounded queue True \t   0.002 ms per query, R@1 0.9706, missing rate 0.0000\n",
      "efSearch 64 bounded queue False \t   0.001 ms per query, R@1 0.9706, missing rate 0.0000\n",
      "efSearch 128 bounded queue True \t   0.003 ms per query, R@1 0.9706, missing rate 0.0000\n",
      "efSearch 128 bounded queue False \t   0.002 ms per query, R@1 0.9706, missing rate 0.0000\n",
      "efSearch 256 bounded queue True \t   0.006 ms per query, R@1 0.9706, missing rate 0.0000\n",
      "efSearch 256 bounded queue False \t   0.003 ms per query, R@1 0.9706, missing rate 0.0000\n",
      "hnsw_add_vertices: adding 951 elements on top of 0 (preset_levels=0)\n",
      "  max_level = 2\n",
      "Adding 1 elements at level 2\n",
      "Adding 22 elements at level 1\n",
      "Adding 928 elements at level 0\n",
      "Done in 2.362 ms\n"
     ]
    },
    {
     "data": {
      "image/png": "[encoded data removed]",
      "text/plain": [
       "<Figure size 640x480 with 1 Axes>"
      ]
     },
     "metadata": {},
     "output_type": "display_data"
    }
   ],
   "source": [
    "import faiss\n",
    "import time\n",
    "import matplotlib.pyplot as plt\n",
    "\n",
    "def evaluate(index, xq, gt, k):\n",
    "    nq, d = xq.shape\n",
    "    t0 = time.time()\n",
    "    D, I = index.search(xq, k)\n",
    "    t1 = time.time()\n",
    "    # print(D, I)\n",
    "\n",
    "    missing_rate = (I == -1).sum() / float(k * nq)\n",
    "    recall_at_1 = (I == gt[:, :1]).sum() / float(nq)\n",
    "    print(\"\\t %7.3f ms per query, R@1 %.4f, missing rate %.4f\" % (\n",
    "        (t1 - t0) * 1000.0 / nq, recall_at_1, missing_rate))\n",
    "\n",
    "def compute_gt(query, data, k):\n",
    "    mip = torch.matmul(query, data.T)\n",
    "    _, indices = torch.topk(mip, k=data.shape[0], dim=-1)\n",
    "    gt = torch.zeros_like(mip)\n",
    "    gt = gt.scatter(-1, indices, 1)\n",
    "    plt.imshow(gt.float().cpu().detach().numpy())\n",
    "    print(indices)\n",
    "    return indices.cpu().detach().numpy()\n",
    "\n",
    "def anns(query, data, vector, k):\n",
    "    gt = compute_gt(query, data, k)\n",
    "    \n",
    "    query = query.float().cpu().detach().numpy()\n",
    "    data = data.float().cpu().detach().numpy()\n",
    "    index = faiss.IndexHNSWFlat(data.shape[-1], 32)\n",
    "    index.hnsw.efConstruction = 40\n",
    "    index.verbose = True\n",
    "    index.add(data)\n",
    "    for efSearch in 16, 32, 64, 128, 256:\n",
    "        for bounded_queue in [True, False]:\n",
    "            print(\"efSearch\", efSearch, \"bounded queue\", bounded_queue, end=' ')\n",
    "            index.hnsw.search_bounded_queue = bounded_queue\n",
    "            index.hnsw.efSearch = efSearch\n",
    "            evaluate(index, query, gt, k)\n",
    "    return 0, 0, 0\n",
    "    # return recall, count\n",
    "\n",
    "example = 3\n",
    "layer = 10\n",
    "head = 3\n",
    "topk = 10\n",
    "input_info = collection['1'][str(layer)]\n",
    "q, k, v = get_qkv(input_info, model, layer)\n",
    "recall, ratio, error = anns(q[head], k[head], v[head], topk)"
   ]
  },
  {
   "cell_type": "code",
   "execution_count": null,
   "id": "82e6d05a-40f8-4eb4-979f-3d050530bbb3",
   "metadata": {},
   "outputs": [],
   "source": []
  }
 ],
 "metadata": {
  "kernelspec": {
   "display_name": "Python 3 (ipykernel)",
   "language": "python",
   "name": "python3"
  },
  "language_info": {
   "codemirror_mode": {
    "name": "ipython",
    "version": 3
   },
   "file_extension": ".py",
   "mimetype": "text/x-python",
   "name": "python",
   "nbconvert_exporter": "python",
   "pygments_lexer": "ipython3",
   "version": "3.9.19"
  }
 },
 "nbformat": 4,
 "nbformat_minor": 5
}
